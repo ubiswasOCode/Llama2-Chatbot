{
  "cells": [
    {
      "cell_type": "markdown",
      "metadata": {
        "id": "2KGPRxxJKfmn"
      },
      "source": [
        "# **How to use Llama 2**\n",
        "## _An open source large language model_\n",
        "\n",
        "By Chanin Nantasenamat\n",
        "\n",
        "_Data Professor_ YouTube channel, https://youtube.com/dataprofessor"
      ]
    },
    {
      "cell_type": "markdown",
      "metadata": {
        "id": "FIf3Q7QaK4gn"
      },
      "source": [
        "## **Install replicate**"
      ]
    },
    {
      "cell_type": "code",
      "execution_count": 1,
      "metadata": {
        "id": "cGwfwAsLJsSR"
      },
      "outputs": [
        {
          "name": "stdout",
          "output_type": "stream",
          "text": [
            "Collecting replicate\n",
            "  Obtaining dependency information for replicate from https://files.pythonhosted.org/packages/dc/e1/9376a3d8842dd8685b16e72ac8217163367118e62fd9daa8b617eca3303f/replicate-0.20.0-py3-none-any.whl.metadata\n",
            "  Downloading replicate-0.20.0-py3-none-any.whl.metadata (21 kB)\n",
            "Collecting httpx<1,>=0.21.0 (from replicate)\n",
            "  Obtaining dependency information for httpx<1,>=0.21.0 from https://files.pythonhosted.org/packages/82/61/a5fca4a1e88e40969bbd0cf0d981f3aa76d5057db160b94f49603fc18740/httpx-0.25.1-py3-none-any.whl.metadata\n",
            "  Downloading httpx-0.25.1-py3-none-any.whl.metadata (7.1 kB)\n",
            "Requirement already satisfied: packaging in c:\\users\\ubisw\\appdata\\roaming\\python\\python311\\site-packages (from replicate) (22.0)\n",
            "Requirement already satisfied: pydantic>1 in c:\\users\\ubisw\\appdata\\local\\programs\\python\\python311\\lib\\site-packages (from replicate) (1.10.4)\n",
            "Collecting typing-extensions>=4.5.0 (from replicate)\n",
            "  Obtaining dependency information for typing-extensions>=4.5.0 from https://files.pythonhosted.org/packages/24/21/7d397a4b7934ff4028987914ac1044d3b7d52712f30e2ac7a2ae5bc86dd0/typing_extensions-4.8.0-py3-none-any.whl.metadata\n",
            "  Downloading typing_extensions-4.8.0-py3-none-any.whl.metadata (3.0 kB)\n",
            "Collecting anyio (from httpx<1,>=0.21.0->replicate)\n",
            "  Obtaining dependency information for anyio from https://files.pythonhosted.org/packages/36/55/ad4de788d84a630656ece71059665e01ca793c04294c463fd84132f40fe6/anyio-4.0.0-py3-none-any.whl.metadata\n",
            "  Downloading anyio-4.0.0-py3-none-any.whl.metadata (4.5 kB)\n",
            "Requirement already satisfied: certifi in c:\\users\\ubisw\\appdata\\local\\programs\\python\\python311\\lib\\site-packages (from httpx<1,>=0.21.0->replicate) (2022.12.7)\n",
            "Collecting httpcore (from httpx<1,>=0.21.0->replicate)\n",
            "  Obtaining dependency information for httpcore from https://files.pythonhosted.org/packages/56/ba/78b0a99c4da0ff8b0f59defa2f13ca4668189b134bd9840b6202a93d9a0f/httpcore-1.0.2-py3-none-any.whl.metadata\n",
            "  Downloading httpcore-1.0.2-py3-none-any.whl.metadata (20 kB)\n",
            "Requirement already satisfied: idna in c:\\users\\ubisw\\appdata\\local\\programs\\python\\python311\\lib\\site-packages (from httpx<1,>=0.21.0->replicate) (3.4)\n",
            "Requirement already satisfied: sniffio in c:\\users\\ubisw\\appdata\\local\\programs\\python\\python311\\lib\\site-packages (from httpx<1,>=0.21.0->replicate) (1.3.0)\n",
            "Requirement already satisfied: h11<0.15,>=0.13 in c:\\users\\ubisw\\appdata\\local\\programs\\python\\python311\\lib\\site-packages (from httpcore->httpx<1,>=0.21.0->replicate) (0.14.0)\n",
            "Downloading replicate-0.20.0-py3-none-any.whl (32 kB)\n",
            "Downloading httpx-0.25.1-py3-none-any.whl (75 kB)\n",
            "   ---------------------------------------- 0.0/75.0 kB ? eta -:--:--\n",
            "   --------------------- ------------------ 41.0/75.0 kB 991.0 kB/s eta 0:00:01\n",
            "   ---------------------------------------- 75.0/75.0 kB 696.8 kB/s eta 0:00:00\n",
            "Downloading typing_extensions-4.8.0-py3-none-any.whl (31 kB)\n",
            "Downloading anyio-4.0.0-py3-none-any.whl (83 kB)\n",
            "   ---------------------------------------- 0.0/83.1 kB ? eta -:--:--\n",
            "   ---------------------------------------  81.9/83.1 kB 2.3 MB/s eta 0:00:01\n",
            "   ---------------------------------------- 83.1/83.1 kB 1.6 MB/s eta 0:00:00\n",
            "Downloading httpcore-1.0.2-py3-none-any.whl (76 kB)\n",
            "   ---------------------------------------- 0.0/76.9 kB ? eta -:--:--\n",
            "   --------------------- ------------------ 41.0/76.9 kB 2.0 MB/s eta 0:00:01\n",
            "   ---------------------------------------- 76.9/76.9 kB 1.1 MB/s eta 0:00:00\n",
            "Installing collected packages: typing-extensions, httpcore, anyio, httpx, replicate\n",
            "  Attempting uninstall: typing-extensions\n",
            "    Found existing installation: typing_extensions 4.4.0\n",
            "    Uninstalling typing_extensions-4.4.0:\n",
            "      Successfully uninstalled typing_extensions-4.4.0\n",
            "Successfully installed anyio-4.0.0 httpcore-1.0.2 httpx-0.25.1 replicate-0.20.0 typing-extensions-4.8.0\n"
          ]
        },
        {
          "name": "stderr",
          "output_type": "stream",
          "text": [
            "\n",
            "[notice] A new release of pip is available: 23.2.1 -> 23.3.1\n",
            "[notice] To update, run: python.exe -m pip install --upgrade pip\n"
          ]
        }
      ],
      "source": [
        "! pip install replicate"
      ]
    },
    {
      "cell_type": "markdown",
      "metadata": {
        "id": "HqBzUTg9NMdh"
      },
      "source": [
        "## **Set Replicate API token**"
      ]
    },
    {
      "cell_type": "code",
      "execution_count": 14,
      "metadata": {
        "id": "_ga2m-1FNP7o"
      },
      "outputs": [],
      "source": [
        "import os\n",
        "\n",
        "os.environ[\"REPLICATE_API_TOKEN\"] = \"r8_2UaIrtLH5RGFHhwEAJ0JsUYF332itkM33teGt\""
      ]
    },
    {
      "cell_type": "markdown",
      "metadata": {
        "id": "901Hxea9K7ME"
      },
      "source": [
        "## **Run the Llama 2 model**"
      ]
    },
    {
      "cell_type": "code",
      "execution_count": 15,
      "metadata": {
        "id": "7Eyzd9DQRvh6"
      },
      "outputs": [],
      "source": [
        "import replicate\n",
        "\n",
        "# Prompts\n",
        "pre_prompt = \"You are a helpful assistant. You do not respond as 'User' or pretend to be 'User'. You only respond once as 'Assistant'.\"\n",
        "prompt_input = \"what is meta tags? \"\n",
        "\n",
        "# Generate LLM response\n",
        "output = replicate.run('a16z-infra/llama13b-v2-chat:df7690f1994d94e96ad9d568eac121aecf50684a0b0963b25a41cc40061269e5', # LLM model\n",
        "                        input={\"prompt\": f\"{pre_prompt} {prompt_input} Assistant: \", # Prompts\n",
        "                        \"temperature\":0.1, \"top_p\":0.9, \"max_length\":128, \"repetition_penalty\":1})  # Model parameters"
      ]
    },
    {
      "cell_type": "markdown",
      "metadata": {},
      "source": [
        "For Generate images "
      ]
    },
    {
      "cell_type": "code",
      "execution_count": 19,
      "metadata": {},
      "outputs": [
        {
          "name": "stdout",
          "output_type": "stream",
          "text": [
            "['https://replicate.delivery/pbxt/znE1IxFiYt4vEhAMiKjQlDeCDHL0uucgm9ffJmrH19teYDzHB/out-0.png']\n"
          ]
        }
      ],
      "source": [
        "import replicate\n",
        "output = replicate.run(\n",
        "  \"stability-ai/stable-diffusion:d70beb400d223e6432425a5299910329c6050c6abcf97b8c70537d6a1fcb269a\",\n",
        "  input={\n",
        "    \"prompt\": \"cat image\",\n",
        "    \"num_outputs\": 1,\n",
        "    \"guidance_scale\": 7.5,\n",
        "    \"num_inference_steps\": 50\n",
        "  }\n",
        ")\n",
        "print(output)"
      ]
    },
    {
      "cell_type": "markdown",
      "metadata": {
        "id": "YrSrbZ97OU3W"
      },
      "source": [
        "## **Displaying the LLM generated response**"
      ]
    },
    {
      "cell_type": "code",
      "execution_count": 16,
      "metadata": {
        "colab": {
          "base_uri": "https://localhost:8080/"
        },
        "id": "ZDH_FJJCKHRo",
        "outputId": "cbf47b42-9225-4368-8f91-a64606575b38"
      },
      "outputs": [
        {
          "data": {
            "text/plain": [
              "<generator object Prediction.output_iterator at 0x000001FB7CDC16C0>"
            ]
          },
          "execution_count": 16,
          "metadata": {},
          "output_type": "execute_result"
        }
      ],
      "source": [
        "output"
      ]
    },
    {
      "cell_type": "code",
      "execution_count": 17,
      "metadata": {
        "colab": {
          "base_uri": "https://localhost:8080/"
        },
        "id": "rwNZxpzFNnnM",
        "outputId": "959f878b-757a-4341-ee4b-30318be5871b"
      },
      "outputs": [
        {
          "name": "stdout",
          "output_type": "stream",
          "text": [
            "Meta tags are information about a web page that is not part of the page itself, but is provided in the page's HTML code. They are used to provide information to search engines and other web crawlers about the page's content and structure. Some common examples of meta tags include the title tag, which specifies the title of the page, and the meta description tag, which provides a brief summary of the page'\n"
          ]
        }
      ],
      "source": [
        "full_response = \"\"\n",
        "\n",
        "for item in output:\n",
        "  full_response += item\n",
        "\n",
        "print(full_response)"
      ]
    }
  ],
  "metadata": {
    "colab": {
      "provenance": []
    },
    "kernelspec": {
      "display_name": "Python 3",
      "name": "python3"
    },
    "language_info": {
      "codemirror_mode": {
        "name": "ipython",
        "version": 3
      },
      "file_extension": ".py",
      "mimetype": "text/x-python",
      "name": "python",
      "nbconvert_exporter": "python",
      "pygments_lexer": "ipython3",
      "version": "3.11.1"
    }
  },
  "nbformat": 4,
  "nbformat_minor": 0
}
